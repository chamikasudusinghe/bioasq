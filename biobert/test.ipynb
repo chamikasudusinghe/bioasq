{
 "cells": [
  {
   "cell_type": "code",
   "execution_count": null,
   "metadata": {},
   "outputs": [],
   "source": [
    "!python run_factoid.py \\\n",
    "     --do_train=True \\\n",
    "     --do_predict=True \\\n",
    "     --vocab_file=C:/Users/DELL/Documents/GitHub/bioasq/biobert/dataset/vocab.txt \\\n",
    "     --bert_config_file=C:/Users/DELL/Documents/GitHub/bioasq/biobert/dataset/bert_config.json \\\n",
    "     --init_checkpoint=C:/Users/DELL/Documents/GitHub/bioasq/biobert/dataset/model.ckpt-14599 \\\n",
    "     --max_seq_length=384 \\\n",
    "     --train_batch_size=12 \\\n",
    "     --learning_rate=5e-6 \\\n",
    "     --doc_stride=128 \\\n",
    "     --num_train_epochs=5.0 \\\n",
    "     --do_lower_case=False \\\n",
    "     --train_file=C:/Users/DELL/Documents/GitHub/bioasq/biobert/dataset/BioASQ-6b/train/Full-Abstract/BioASQ-train-factoid-6b-full-annotated.json \\\n",
    "     --predict_file=C:/Users/DELL/Documents/GitHub/bioasq/biobert/dataset/BioASQ-6b/test/Full-Abstract/BioASQ-test-factoid-6b-3.json \\\n",
    "     --output_dir=C:/Users/DELL/Documents/GitHub/bioasq/biobert/dataset/tmp/factoid_output/"
   ]
  },
  {
   "cell_type": "code",
   "execution_count": null,
   "metadata": {},
   "outputs": [],
   "source": []
  }
 ],
 "metadata": {
  "kernelspec": {
   "display_name": "Python 3",
   "language": "python",
   "name": "python3"
  },
  "language_info": {
   "codemirror_mode": {
    "name": "ipython",
    "version": 3
   },
   "file_extension": ".py",
   "mimetype": "text/x-python",
   "name": "python",
   "nbconvert_exporter": "python",
   "pygments_lexer": "ipython3",
   "version": "3.7.1"
  }
 },
 "nbformat": 4,
 "nbformat_minor": 4
}
